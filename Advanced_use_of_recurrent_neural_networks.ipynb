{
  "nbformat": 4,
  "nbformat_minor": 0,
  "metadata": {
    "colab": {
      "name": "Advanced use of recurrent neural networks.ipynb",
      "provenance": [],
      "collapsed_sections": [],
      "toc_visible": true,
      "include_colab_link": true
    },
    "kernelspec": {
      "name": "python3",
      "display_name": "Python 3"
    },
    "accelerator": "GPU"
  },
  "cells": [
    {
      "cell_type": "markdown",
      "metadata": {
        "id": "view-in-github",
        "colab_type": "text"
      },
      "source": [
        "<a href=\"https://colab.research.google.com/github/bilal444hammas/Piaic-Quarter-3/blob/master/Advanced_use_of_recurrent_neural_networks.ipynb\" target=\"_parent\"><img src=\"https://colab.research.google.com/assets/colab-badge.svg\" alt=\"Open In Colab\"/></a>"
      ]
    },
    {
      "cell_type": "markdown",
      "metadata": {
        "id": "eX4R2PPGSKH9",
        "colab_type": "text"
      },
      "source": [
        "#6.3  Advanced use of recurrent neural networks"
      ]
    },
    {
      "cell_type": "code",
      "metadata": {
        "id": "PuiDaZk_KsVv",
        "colab_type": "code",
        "colab": {
          "base_uri": "https://localhost:8080/",
          "height": 34
        },
        "outputId": "09906404-6f49-4bdc-dba1-c6e6041b57f9"
      },
      "source": [
        "!rm -R source_data"
      ],
      "execution_count": null,
      "outputs": [
        {
          "output_type": "stream",
          "text": [
            "rm: cannot remove 'source_data': No such file or directory\n"
          ],
          "name": "stdout"
        }
      ]
    },
    {
      "cell_type": "markdown",
      "metadata": {
        "id": "Kn8ehECGEWFr",
        "colab_type": "text"
      },
      "source": [
        "# New Section"
      ]
    },
    {
      "cell_type": "code",
      "metadata": {
        "id": "f6WblmDhB0Va",
        "colab_type": "code",
        "colab": {
          "base_uri": "https://localhost:8080/",
          "height": 124
        },
        "outputId": "b9e850e3-d77c-4656-9d7d-63902f0129db"
      },
      "source": [
        "from google.colab import drive\n",
        "drive.mount('/content/drive')"
      ],
      "execution_count": null,
      "outputs": [
        {
          "output_type": "stream",
          "text": [
            "Go to this URL in a browser: https://accounts.google.com/o/oauth2/auth?client_id=947318989803-6bn6qk8qdgf4n4g3pfee6491hc0brc4i.apps.googleusercontent.com&redirect_uri=urn%3aietf%3awg%3aoauth%3a2.0%3aoob&scope=email%20https%3a%2f%2fwww.googleapis.com%2fauth%2fdocs.test%20https%3a%2f%2fwww.googleapis.com%2fauth%2fdrive%20https%3a%2f%2fwww.googleapis.com%2fauth%2fdrive.photos.readonly%20https%3a%2f%2fwww.googleapis.com%2fauth%2fpeopleapi.readonly&response_type=code\n",
            "\n",
            "Enter your authorization code:\n",
            "··········\n",
            "Mounted at /content/drive\n"
          ],
          "name": "stdout"
        }
      ]
    },
    {
      "cell_type": "code",
      "metadata": {
        "id": "GQ76cszfSJPw",
        "colab_type": "code",
        "colab": {
          "base_uri": "https://localhost:8080/",
          "height": 52
        },
        "outputId": "8fa30302-b4f8-428f-ca9f-cb1458b7c2bf"
      },
      "source": [
        "!unzip \"drive/My Drive/jena_climate_2009_2016.csv.zip\""
      ],
      "execution_count": null,
      "outputs": [
        {
          "output_type": "stream",
          "text": [
            "Archive:  drive/My Drive/jena_climate_2009_2016.csv.zip\n",
            "  inflating: jena_climate_2009_2016.csv  \n"
          ],
          "name": "stdout"
        }
      ]
    },
    {
      "cell_type": "code",
      "metadata": {
        "id": "oyzq5ernUTwi",
        "colab_type": "code",
        "colab": {}
      },
      "source": [
        "\n",
        "#!mkdir source_data  \n",
        "#!mv jena_climate_2009_2016.csv source_data"
      ],
      "execution_count": null,
      "outputs": []
    },
    {
      "cell_type": "code",
      "metadata": {
        "id": "o-YAUhRPa7sE",
        "colab_type": "code",
        "colab": {}
      },
      "source": [
        ""
      ],
      "execution_count": null,
      "outputs": []
    },
    {
      "cell_type": "code",
      "metadata": {
        "id": "BGiImJHwU8w1",
        "colab_type": "code",
        "colab": {
          "base_uri": "https://localhost:8080/",
          "height": 72
        },
        "outputId": "bc02162c-19eb-4e7e-aa4e-a2d1243c1253"
      },
      "source": [
        "#Listing 6.28 Inspecting the data of the Jena weather dataset\n",
        "import os\n",
        "data_dir = '/content'\n",
        "fname = os.path.join(data_dir, 'jena_climate_2009_2016.csv')\n",
        "#read the file\n",
        "f = open(fname)\n",
        "data = f.read()\n",
        "f.close()\n",
        "lines = data.split('\\n')\n",
        "#extract the first line\n",
        "header = lines[0].split(',')\n",
        "#extract the rest of line\n",
        "lines = lines[1:]\n",
        "print(header)\n",
        "print(len(lines))\n"
      ],
      "execution_count": null,
      "outputs": [
        {
          "output_type": "stream",
          "text": [
            "['\"Date Time\"', '\"p (mbar)\"', '\"T (degC)\"', '\"Tpot (K)\"', '\"Tdew (degC)\"', '\"rh (%)\"', '\"VPmax (mbar)\"', '\"VPact (mbar)\"', '\"VPdef (mbar)\"', '\"sh (g/kg)\"', '\"H2OC (mmol/mol)\"', '\"rho (g/m**3)\"', '\"wv (m/s)\"', '\"max. wv (m/s)\"', '\"wd (deg)\"']\n",
            "420551\n"
          ],
          "name": "stdout"
        }
      ]
    },
    {
      "cell_type": "code",
      "metadata": {
        "id": "IShb1zDVaMPz",
        "colab_type": "code",
        "colab": {
          "base_uri": "https://localhost:8080/",
          "height": 383
        },
        "outputId": "e521f376-8c06-4c02-ec65-a0f9adfc06ad"
      },
      "source": [
        "import pandas as pd\n",
        "import numpy as np\n",
        "\n",
        "df = pd.read_csv(\"/content/jena_climate_2009_2016.csv\")\n",
        "print(\"Length of dataset :\",len(df))\n",
        "print()\n",
        "display(df.head())\n",
        "values = df.iloc[:,1:] # excluded date\n",
        "float_data = np.asarray(values) # converting in numpy array"
      ],
      "execution_count": null,
      "outputs": [
        {
          "output_type": "stream",
          "text": [
            "Length of dataset : 420551\n",
            "\n"
          ],
          "name": "stdout"
        },
        {
          "output_type": "display_data",
          "data": {
            "text/html": [
              "<div>\n",
              "<style scoped>\n",
              "    .dataframe tbody tr th:only-of-type {\n",
              "        vertical-align: middle;\n",
              "    }\n",
              "\n",
              "    .dataframe tbody tr th {\n",
              "        vertical-align: top;\n",
              "    }\n",
              "\n",
              "    .dataframe thead th {\n",
              "        text-align: right;\n",
              "    }\n",
              "</style>\n",
              "<table border=\"1\" class=\"dataframe\">\n",
              "  <thead>\n",
              "    <tr style=\"text-align: right;\">\n",
              "      <th></th>\n",
              "      <th>Date Time</th>\n",
              "      <th>p (mbar)</th>\n",
              "      <th>T (degC)</th>\n",
              "      <th>Tpot (K)</th>\n",
              "      <th>Tdew (degC)</th>\n",
              "      <th>rh (%)</th>\n",
              "      <th>VPmax (mbar)</th>\n",
              "      <th>VPact (mbar)</th>\n",
              "      <th>VPdef (mbar)</th>\n",
              "      <th>sh (g/kg)</th>\n",
              "      <th>H2OC (mmol/mol)</th>\n",
              "      <th>rho (g/m**3)</th>\n",
              "      <th>wv (m/s)</th>\n",
              "      <th>max. wv (m/s)</th>\n",
              "      <th>wd (deg)</th>\n",
              "    </tr>\n",
              "  </thead>\n",
              "  <tbody>\n",
              "    <tr>\n",
              "      <th>0</th>\n",
              "      <td>01.01.2009 00:10:00</td>\n",
              "      <td>996.52</td>\n",
              "      <td>-8.02</td>\n",
              "      <td>265.40</td>\n",
              "      <td>-8.90</td>\n",
              "      <td>93.3</td>\n",
              "      <td>3.33</td>\n",
              "      <td>3.11</td>\n",
              "      <td>0.22</td>\n",
              "      <td>1.94</td>\n",
              "      <td>3.12</td>\n",
              "      <td>1307.75</td>\n",
              "      <td>1.03</td>\n",
              "      <td>1.75</td>\n",
              "      <td>152.3</td>\n",
              "    </tr>\n",
              "    <tr>\n",
              "      <th>1</th>\n",
              "      <td>01.01.2009 00:20:00</td>\n",
              "      <td>996.57</td>\n",
              "      <td>-8.41</td>\n",
              "      <td>265.01</td>\n",
              "      <td>-9.28</td>\n",
              "      <td>93.4</td>\n",
              "      <td>3.23</td>\n",
              "      <td>3.02</td>\n",
              "      <td>0.21</td>\n",
              "      <td>1.89</td>\n",
              "      <td>3.03</td>\n",
              "      <td>1309.80</td>\n",
              "      <td>0.72</td>\n",
              "      <td>1.50</td>\n",
              "      <td>136.1</td>\n",
              "    </tr>\n",
              "    <tr>\n",
              "      <th>2</th>\n",
              "      <td>01.01.2009 00:30:00</td>\n",
              "      <td>996.53</td>\n",
              "      <td>-8.51</td>\n",
              "      <td>264.91</td>\n",
              "      <td>-9.31</td>\n",
              "      <td>93.9</td>\n",
              "      <td>3.21</td>\n",
              "      <td>3.01</td>\n",
              "      <td>0.20</td>\n",
              "      <td>1.88</td>\n",
              "      <td>3.02</td>\n",
              "      <td>1310.24</td>\n",
              "      <td>0.19</td>\n",
              "      <td>0.63</td>\n",
              "      <td>171.6</td>\n",
              "    </tr>\n",
              "    <tr>\n",
              "      <th>3</th>\n",
              "      <td>01.01.2009 00:40:00</td>\n",
              "      <td>996.51</td>\n",
              "      <td>-8.31</td>\n",
              "      <td>265.12</td>\n",
              "      <td>-9.07</td>\n",
              "      <td>94.2</td>\n",
              "      <td>3.26</td>\n",
              "      <td>3.07</td>\n",
              "      <td>0.19</td>\n",
              "      <td>1.92</td>\n",
              "      <td>3.08</td>\n",
              "      <td>1309.19</td>\n",
              "      <td>0.34</td>\n",
              "      <td>0.50</td>\n",
              "      <td>198.0</td>\n",
              "    </tr>\n",
              "    <tr>\n",
              "      <th>4</th>\n",
              "      <td>01.01.2009 00:50:00</td>\n",
              "      <td>996.51</td>\n",
              "      <td>-8.27</td>\n",
              "      <td>265.15</td>\n",
              "      <td>-9.04</td>\n",
              "      <td>94.1</td>\n",
              "      <td>3.27</td>\n",
              "      <td>3.08</td>\n",
              "      <td>0.19</td>\n",
              "      <td>1.92</td>\n",
              "      <td>3.09</td>\n",
              "      <td>1309.00</td>\n",
              "      <td>0.32</td>\n",
              "      <td>0.63</td>\n",
              "      <td>214.3</td>\n",
              "    </tr>\n",
              "  </tbody>\n",
              "</table>\n",
              "</div>"
            ],
            "text/plain": [
              "             Date Time  p (mbar)  T (degC)  ...  wv (m/s)  max. wv (m/s)  wd (deg)\n",
              "0  01.01.2009 00:10:00    996.52     -8.02  ...      1.03           1.75     152.3\n",
              "1  01.01.2009 00:20:00    996.57     -8.41  ...      0.72           1.50     136.1\n",
              "2  01.01.2009 00:30:00    996.53     -8.51  ...      0.19           0.63     171.6\n",
              "3  01.01.2009 00:40:00    996.51     -8.31  ...      0.34           0.50     198.0\n",
              "4  01.01.2009 00:50:00    996.51     -8.27  ...      0.32           0.63     214.3\n",
              "\n",
              "[5 rows x 15 columns]"
            ]
          },
          "metadata": {
            "tags": []
          }
        }
      ]
    },
    {
      "cell_type": "code",
      "metadata": {
        "id": "Ic-bftnBaePg",
        "colab_type": "code",
        "colab": {
          "base_uri": "https://localhost:8080/",
          "height": 243
        },
        "outputId": "d4ed2e13-0125-4e40-ff82-9bf4a4b2f788"
      },
      "source": [
        "float_data"
      ],
      "execution_count": null,
      "outputs": [
        {
          "output_type": "execute_result",
          "data": {
            "text/plain": [
              "array([[ 9.9652e+02, -8.0200e+00,  2.6540e+02, ...,  1.0300e+00,\n",
              "         1.7500e+00,  1.5230e+02],\n",
              "       [ 9.9657e+02, -8.4100e+00,  2.6501e+02, ...,  7.2000e-01,\n",
              "         1.5000e+00,  1.3610e+02],\n",
              "       [ 9.9653e+02, -8.5100e+00,  2.6491e+02, ...,  1.9000e-01,\n",
              "         6.3000e-01,  1.7160e+02],\n",
              "       ...,\n",
              "       [ 9.9982e+02, -3.1600e+00,  2.7001e+02, ...,  1.0800e+00,\n",
              "         2.0000e+00,  2.1520e+02],\n",
              "       [ 9.9981e+02, -4.2300e+00,  2.6894e+02, ...,  1.4900e+00,\n",
              "         2.1600e+00,  2.2580e+02],\n",
              "       [ 9.9982e+02, -4.8200e+00,  2.6836e+02, ...,  1.2300e+00,\n",
              "         1.9600e+00,  1.8490e+02]])"
            ]
          },
          "metadata": {
            "tags": []
          },
          "execution_count": 7
        }
      ]
    },
    {
      "cell_type": "code",
      "metadata": {
        "id": "LV0F8KBxVNeO",
        "colab_type": "code",
        "colab": {}
      },
      "source": [
        "#Listing 6.29 Parsing the data\n",
        "import numpy as np\n",
        "float_data = np.zeros((len(lines), len(header) - 1))# header - 1 mean did not read last colum\n",
        "for i, line in enumerate(lines):\n",
        "  #split every line based on comma and save it into numpy arry\n",
        "    values = [float(x) for x in line.split(',')[1:]]\n",
        "    float_data[i, :] = values"
      ],
      "execution_count": null,
      "outputs": []
    },
    {
      "cell_type": "code",
      "metadata": {
        "id": "FStQrwVvV00E",
        "colab_type": "code",
        "colab": {
          "base_uri": "https://localhost:8080/",
          "height": 282
        },
        "outputId": "b47ff49e-0b8c-4d25-dd3e-449a3a22c26b"
      },
      "source": [
        "\n",
        "from matplotlib import pyplot as plt\n",
        "rh = float_data[:, 4]\n",
        "plt.plot(range(len(rh)), rh)"
      ],
      "execution_count": null,
      "outputs": [
        {
          "output_type": "execute_result",
          "data": {
            "text/plain": [
              "[<matplotlib.lines.Line2D at 0x7f496a95fc50>]"
            ]
          },
          "metadata": {
            "tags": []
          },
          "execution_count": 9
        },
        {
          "output_type": "display_data",
          "data": {
            "image/png": "[encoded data removed]",
            "text/plain": [
              "<Figure size 432x288 with 1 Axes>"
            ]
          },
          "metadata": {
            "tags": [],
            "needs_background": "light"
          }
        }
      ]
    },
    {
      "cell_type": "code",
      "metadata": {
        "id": "iJGlR_vidRA1",
        "colab_type": "code",
        "colab": {
          "base_uri": "https://localhost:8080/",
          "height": 285
        },
        "outputId": "77f35e75-cda3-4d01-ec30-04e1afb94c0b"
      },
      "source": [
        "from matplotlib import pyplot as plt\n",
        "temp = float_data[:, 1]\n",
        "plt.plot(range(len(temp)), temp)"
      ],
      "execution_count": null,
      "outputs": [
        {
          "output_type": "execute_result",
          "data": {
            "text/plain": [
              "[<matplotlib.lines.Line2D at 0x7f496a4a9780>]"
            ]
          },
          "metadata": {
            "tags": []
          },
          "execution_count": 10
        },
        {
          "output_type": "display_data",
          "data": {
            "image/png": "[encoded data removed]",
            "text/plain": [
              "<Figure size 432x288 with 1 Axes>"
            ]
          },
          "metadata": {
            "tags": [],
            "needs_background": "light"
          }
        }
      ]
    },
    {
      "cell_type": "code",
      "metadata": {
        "id": "zGKbiObmV68S",
        "colab_type": "code",
        "colab": {
          "base_uri": "https://localhost:8080/",
          "height": 282
        },
        "outputId": "eed5e7f7-6e62-4e9d-9591-d5220b59be3f"
      },
      "source": [
        "#Listing 6.31 Plotting the first 10 days of the temperature timeseries\n",
        "plt.plot(range(1440), temp[:1440])"
      ],
      "execution_count": null,
      "outputs": [
        {
          "output_type": "execute_result",
          "data": {
            "text/plain": [
              "[<matplotlib.lines.Line2D at 0x7f496a461780>]"
            ]
          },
          "metadata": {
            "tags": []
          },
          "execution_count": 11
        },
        {
          "output_type": "display_data",
          "data": {
            "image/png": "[encoded data removed]",
            "text/plain": [
              "<Figure size 432x288 with 1 Axes>"
            ]
          },
          "metadata": {
            "tags": [],
            "needs_background": "light"
          }
        }
      ]
    },
    {
      "cell_type": "code",
      "metadata": {
        "id": "MWyjjnybWb6l",
        "colab_type": "code",
        "colab": {}
      },
      "source": [
        "#Listing 6.32 Normalizing the data\n",
        "mean = float_data[:200000].mean(axis=0)\n",
        "float_data -= mean\n",
        "std = float_data[:200000].std(axis=0)\n",
        "float_data /= std"
      ],
      "execution_count": null,
      "outputs": []
    },
    {
      "cell_type": "code",
      "metadata": {
        "id": "X8VomsRiwtcQ",
        "colab_type": "code",
        "colab": {}
      },
      "source": [
        "\n",
        "def generator(data, lookback, delay, min_index, max_index,shuffle=False, batch_size=128, step=6):\n",
        "    if max_index is None: #None  = if  max data is not specified,we will set it to very end of the data \n",
        "        max_index = len(data) - delay - 1 #very end of the data - delay because we predict.\n",
        "    i = min_index + lookback #set into the very start of the data\n",
        "    print(\"fox\")\n",
        "    while 1:\n",
        "        if shuffle:\n",
        "          #gernate random rows\n",
        "            rows = np.random.randint(\n",
        "                min_index + lookback, max_index, size=batch_size)\n",
        "        else:\n",
        "            if i + batch_size >= max_index:\n",
        "                i = min_index + lookback\n",
        "            rows = np.arange(i, min(i + batch_size, max_index))\n",
        "            i += len(rows)\n",
        "        samples = np.zeros((len(rows),\n",
        "        lookback // step,\n",
        "        data.shape[-1]))\n",
        "        targets = np.zeros((len(rows),))\n",
        "        for j, row in enumerate(rows):\n",
        "            indices = range(rows[j] - lookback, rows[j], step)\n",
        "            samples[j] = data[indices]\n",
        "            targets[j] = data[rows[j] + delay][1]\n",
        "        yield samples, targets"
      ],
      "execution_count": null,
      "outputs": []
    },
    {
      "cell_type": "code",
      "metadata": {
        "id": "oPhR0jTTJzPO",
        "colab_type": "code",
        "colab": {}
      },
      "source": [
        "#Listing 6.34 Preparing the training, validation, and test generators\n",
        "lookback = 1440\n",
        "step = 6\n",
        "delay = 144\n",
        "batch_size = 128"
      ],
      "execution_count": null,
      "outputs": []
    },
    {
      "cell_type": "code",
      "metadata": {
        "id": "CKePyQLoNEuR",
        "colab_type": "code",
        "colab": {}
      },
      "source": [
        "train_gen = generator(float_data,lookback=lookback,delay=delay,min_index=0,max_index=200000,shuffle=True,step=step,batch_size=batch_size)\n",
        "val_gen = generator(float_data,lookback=lookback,delay=delay,min_index=200001,max_index=300000,step=step,batch_size=batch_size)\n",
        "test_gen = generator(float_data,lookback=lookback,delay=delay,min_index=300001,max_index=None,step=step,batch_size=batch_size)\n",
        "\n",
        "val_steps = (300000 - 200001 - lookback)// batch_size\n",
        "\n",
        "test_steps = (len(float_data) - 300001 - lookback)// batch_size"
      ],
      "execution_count": null,
      "outputs": []
    },
    {
      "cell_type": "code",
      "metadata": {
        "id": "6FmsNE1hX-Dr",
        "colab_type": "code",
        "colab": {}
      },
      "source": [
        ""
      ],
      "execution_count": null,
      "outputs": []
    },
    {
      "cell_type": "code",
      "metadata": {
        "id": "s86Ifgc_4ufS",
        "colab_type": "code",
        "colab": {
          "base_uri": "https://localhost:8080/",
          "height": 52
        },
        "outputId": "24c6a539-bb26-49d8-fcfc-ffeab3eb1654"
      },
      "source": [
        "#Listing 6.35 Computing the common-sense baseline MAE\n",
        "\n",
        "def evaluate_naive_method():\n",
        "    batch_maes = []\n",
        "    for step in range(val_steps):\n",
        "        samples, targets = next(val_gen)\n",
        "        preds = samples[:,-1,1]\n",
        "        mae = np.mean(np.abs(preds - targets))\n",
        "        batch_maes.append(mae)\n",
        "    print(np.mean(batch_maes))\n",
        "evaluate_naive_method()\n"
      ],
      "execution_count": null,
      "outputs": [
        {
          "output_type": "stream",
          "text": [
            "fox\n",
            "0.2897359729905486\n"
          ],
          "name": "stdout"
        }
      ]
    },
    {
      "cell_type": "code",
      "metadata": {
        "id": "aJL228LM4uv1",
        "colab_type": "code",
        "colab": {
          "base_uri": "https://localhost:8080/",
          "height": 34
        },
        "outputId": "1f917bab-1593-4eb2-e344-c3cb98d41506"
      },
      "source": [
        "celsius_mae = 0.29 * std[1]\n",
        "celsius_mae"
      ],
      "execution_count": null,
      "outputs": [
        {
          "output_type": "execute_result",
          "data": {
            "text/plain": [
              "2.5672247338393395"
            ]
          },
          "metadata": {
            "tags": []
          },
          "execution_count": 17
        }
      ]
    },
    {
      "cell_type": "code",
      "metadata": {
        "id": "MLLq6oM0-Ja2",
        "colab_type": "code",
        "colab": {
          "base_uri": "https://localhost:8080/",
          "height": 260
        },
        "outputId": "7bd70a6b-c89e-4ed4-f170-f3b7526a7e74"
      },
      "source": [
        "from tensorflow.keras.models import Sequential\n",
        "from tensorflow.keras.layers import Flatten,Dense\n",
        "from tensorflow.keras.optimizers import RMSprop\n",
        "\n",
        "model = Sequential()\n",
        "model.add(Flatten(input_shape=(lookback//step,float_data.shape[-1])))\n",
        "model.add(Dense(32, activation='relu'))\n",
        "model.add(Dense(1))\n",
        "\n",
        "model.compile(optimizer=RMSprop(),loss='mae')\n",
        "model.summary()"
      ],
      "execution_count": null,
      "outputs": [
        {
          "output_type": "stream",
          "text": [
            "Model: \"sequential\"\n",
            "_________________________________________________________________\n",
            "Layer (type)                 Output Shape              Param #   \n",
            "=================================================================\n",
            "flatten (Flatten)            (None, 3360)              0         \n",
            "_________________________________________________________________\n",
            "dense (Dense)                (None, 32)                107552    \n",
            "_________________________________________________________________\n",
            "dense_1 (Dense)              (None, 1)                 33        \n",
            "=================================================================\n",
            "Total params: 107,585\n",
            "Trainable params: 107,585\n",
            "Non-trainable params: 0\n",
            "_________________________________________________________________\n"
          ],
          "name": "stdout"
        }
      ]
    },
    {
      "cell_type": "code",
      "metadata": {
        "id": "tO0pqP37-J3X",
        "colab_type": "code",
        "colab": {
          "base_uri": "https://localhost:8080/",
          "height": 801
        },
        "outputId": "c5729132-d5d0-470e-9f10-dcba4e45ad90"
      },
      "source": [
        "history = model.fit_generator(train_gen,\n",
        "                              steps_per_epoch=500, #500\n",
        "                              epochs=20,           #20\n",
        "                              validation_data=val_gen,\n",
        "                              validation_steps=val_steps)\n",
        "\n"
      ],
      "execution_count": null,
      "outputs": [
        {
          "output_type": "stream",
          "text": [
            "WARNING:tensorflow:From <ipython-input-19-4c8bee11bdc3>:5: Model.fit_generator (from tensorflow.python.keras.engine.training) is deprecated and will be removed in a future version.\n",
            "Instructions for updating:\n",
            "Please use Model.fit, which supports generators.\n",
            "fox\n",
            "Epoch 1/20\n",
            "500/500 [==============================] - 11s 21ms/step - loss: 1.4530 - val_loss: 0.5981\n",
            "Epoch 2/20\n",
            "500/500 [==============================] - 11s 21ms/step - loss: 0.5715 - val_loss: 0.3957\n",
            "Epoch 3/20\n",
            "500/500 [==============================] - 11s 21ms/step - loss: 0.3238 - val_loss: 0.3228\n",
            "Epoch 4/20\n",
            "500/500 [==============================] - 11s 22ms/step - loss: 0.2744 - val_loss: 0.3164\n",
            "Epoch 5/20\n",
            "500/500 [==============================] - 11s 21ms/step - loss: 0.2602 - val_loss: 0.3032\n",
            "Epoch 6/20\n",
            "500/500 [==============================] - 11s 22ms/step - loss: 0.2496 - val_loss: 0.3065\n",
            "Epoch 7/20\n",
            "500/500 [==============================] - 10s 21ms/step - loss: 0.2408 - val_loss: 0.3090\n",
            "Epoch 8/20\n",
            "500/500 [==============================] - 11s 21ms/step - loss: 0.2371 - val_loss: 0.3359\n",
            "Epoch 9/20\n",
            "500/500 [==============================] - 10s 21ms/step - loss: 0.2319 - val_loss: 0.3335\n",
            "Epoch 10/20\n",
            "500/500 [==============================] - 11s 21ms/step - loss: 0.2260 - val_loss: 0.3286\n",
            "Epoch 11/20\n",
            "500/500 [==============================] - 10s 21ms/step - loss: 0.2234 - val_loss: 0.3385\n",
            "Epoch 12/20\n",
            "500/500 [==============================] - 10s 21ms/step - loss: 0.2200 - val_loss: 0.3418\n",
            "Epoch 13/20\n",
            "500/500 [==============================] - 10s 21ms/step - loss: 0.2173 - val_loss: 0.3326\n",
            "Epoch 14/20\n",
            "500/500 [==============================] - 11s 21ms/step - loss: 0.2145 - val_loss: 0.3351\n",
            "Epoch 15/20\n",
            "500/500 [==============================] - 10s 21ms/step - loss: 0.2120 - val_loss: 0.3429\n",
            "Epoch 16/20\n",
            "500/500 [==============================] - 10s 21ms/step - loss: 0.2092 - val_loss: 0.3261\n",
            "Epoch 17/20\n",
            "500/500 [==============================] - 10s 21ms/step - loss: 0.2078 - val_loss: 0.3573\n",
            "Epoch 18/20\n",
            "500/500 [==============================] - 10s 21ms/step - loss: 0.2049 - val_loss: 0.3308\n",
            "Epoch 19/20\n",
            "500/500 [==============================] - 10s 21ms/step - loss: 0.2044 - val_loss: 0.3310\n",
            "Epoch 20/20\n",
            "500/500 [==============================] - 10s 20ms/step - loss: 0.2013 - val_loss: 0.3449\n"
          ],
          "name": "stdout"
        }
      ]
    },
    {
      "cell_type": "code",
      "metadata": {
        "id": "pfKrmb1K5h4u",
        "colab_type": "code",
        "colab": {
          "base_uri": "https://localhost:8080/",
          "height": 281
        },
        "outputId": "1f99c58b-714a-45f1-d0af-ba2d04d3315f"
      },
      "source": [
        "#Listing 6.38 Plotting results\n",
        "import matplotlib.pyplot as plt\n",
        "loss = history.history['loss']\n",
        "val_loss = history.history['val_loss']\n",
        "epochs = range(1, len(loss) + 1)\n",
        "plt.figure()\n",
        "plt.plot(epochs, loss, 'bo', label='Training loss')\n",
        "plt.plot(epochs, val_loss, 'b', label='Validation loss')\n",
        "plt.title('Training and validation loss')\n",
        "plt.legend()\n",
        "plt.show()"
      ],
      "execution_count": null,
      "outputs": [
        {
          "output_type": "display_data",
          "data": {
            "image/png": "[encoded data removed]",
            "text/plain": [
              "<Figure size 432x288 with 1 Axes>"
            ]
          },
          "metadata": {
            "tags": [],
            "needs_background": "light"
          }
        }
      ]
    },
    {
      "cell_type": "code",
      "metadata": {
        "id": "LHiKxU7x5iP7",
        "colab_type": "code",
        "colab": {}
      },
      "source": [
        ""
      ],
      "execution_count": null,
      "outputs": []
    },
    {
      "cell_type": "code",
      "metadata": {
        "id": "gWsBdStnQsWY",
        "colab_type": "code",
        "colab": {
          "base_uri": "https://localhost:8080/",
          "height": 712
        },
        "outputId": "6b40cf5b-9226-4070-9ef3-c47cde008a58"
      },
      "source": [
        "##Listing 6.39 Training and evaluating a GRU-based model\n",
        "from keras.models import Sequential\n",
        "from keras import layers\n",
        "from keras.optimizers import RMSprop\n",
        "model = Sequential()\n",
        "model.add(layers.GRU(32, input_shape=(None, float_data.shape[-1])))\n",
        "model.add(layers.Dense(1))\n",
        "model.compile(optimizer=RMSprop(), loss='mae')\n",
        "history = model.fit_generator(train_gen,steps_per_epoch=500,epochs=20,validation_data=val_gen,\n",
        "                              validation_steps=val_steps)"
      ],
      "execution_count": null,
      "outputs": [
        {
          "output_type": "stream",
          "text": [
            "Epoch 1/20\n",
            "500/500 [==============================] - 17s 33ms/step - loss: 0.2998 - val_loss: 0.2833\n",
            "Epoch 2/20\n",
            "500/500 [==============================] - 19s 38ms/step - loss: 0.2832 - val_loss: 0.2686\n",
            "Epoch 3/20\n",
            "500/500 [==============================] - 20s 40ms/step - loss: 0.2776 - val_loss: 0.2690\n",
            "Epoch 4/20\n",
            "500/500 [==============================] - 20s 39ms/step - loss: 0.2720 - val_loss: 0.2616\n",
            "Epoch 5/20\n",
            "500/500 [==============================] - 20s 40ms/step - loss: 0.2660 - val_loss: 0.2628\n",
            "Epoch 6/20\n",
            "500/500 [==============================] - 20s 40ms/step - loss: 0.2632 - val_loss: 0.2639\n",
            "Epoch 7/20\n",
            "500/500 [==============================] - 20s 40ms/step - loss: 0.2587 - val_loss: 0.2672\n",
            "Epoch 8/20\n",
            "500/500 [==============================] - 20s 39ms/step - loss: 0.2545 - val_loss: 0.2716\n",
            "Epoch 9/20\n",
            "500/500 [==============================] - 20s 40ms/step - loss: 0.2501 - val_loss: 0.2688\n",
            "Epoch 10/20\n",
            "500/500 [==============================] - 19s 37ms/step - loss: 0.2472 - val_loss: 0.2667\n",
            "Epoch 11/20\n",
            "500/500 [==============================] - 20s 39ms/step - loss: 0.2405 - val_loss: 0.2706\n",
            "Epoch 12/20\n",
            "500/500 [==============================] - 18s 36ms/step - loss: 0.2379 - val_loss: 0.2744\n",
            "Epoch 13/20\n",
            "500/500 [==============================] - 20s 41ms/step - loss: 0.2344 - val_loss: 0.2739\n",
            "Epoch 14/20\n",
            "500/500 [==============================] - 18s 36ms/step - loss: 0.2325 - val_loss: 0.2754\n",
            "Epoch 15/20\n",
            "500/500 [==============================] - 20s 40ms/step - loss: 0.2275 - val_loss: 0.2804\n",
            "Epoch 16/20\n",
            "500/500 [==============================] - 20s 39ms/step - loss: 0.2215 - val_loss: 0.2826\n",
            "Epoch 17/20\n",
            "500/500 [==============================] - 20s 40ms/step - loss: 0.2175 - val_loss: 0.2892\n",
            "Epoch 18/20\n",
            "500/500 [==============================] - 20s 40ms/step - loss: 0.2156 - val_loss: 0.2976\n",
            "Epoch 19/20\n",
            "500/500 [==============================] - 20s 40ms/step - loss: 0.2122 - val_loss: 0.2935\n",
            "Epoch 20/20\n",
            "500/500 [==============================] - 20s 39ms/step - loss: 0.2087 - val_loss: 0.3019\n"
          ],
          "name": "stdout"
        }
      ]
    },
    {
      "cell_type": "code",
      "metadata": {
        "id": "hslKWEt0cYF8",
        "colab_type": "code",
        "colab": {
          "base_uri": "https://localhost:8080/",
          "height": 281
        },
        "outputId": "9487b40e-a284-4d65-a60e-2dd6aaae17af"
      },
      "source": [
        "loss = history.history['loss']\n",
        "val_loss = history.history['val_loss']\n",
        "epochs = range(1, len(loss) + 1)\n",
        "plt.figure()\n",
        "plt.plot(epochs, loss, 'bo', label='Training loss')\n",
        "plt.plot(epochs, val_loss, 'b', label='Validation loss')\n",
        "plt.title('Training and validation loss')\n",
        "plt.legend()\n",
        "plt.show()"
      ],
      "execution_count": null,
      "outputs": [
        {
          "output_type": "display_data",
          "data": {
            "image/png": "[encoded data removed]",
            "text/plain": [
              "<Figure size 432x288 with 1 Axes>"
            ]
          },
          "metadata": {
            "tags": [],
            "needs_background": "light"
          }
        }
      ]
    },
    {
      "cell_type": "code",
      "metadata": {
        "id": "39t7e7o9O0K2",
        "colab_type": "code",
        "colab": {
          "base_uri": "https://localhost:8080/",
          "height": 1000
        },
        "outputId": "0598017b-1226-408d-fdfd-345c84b9b3f8"
      },
      "source": [
        "##Listing 6.40 Training and evaluating a dropout-regularized GRU-based model\n",
        "from keras.models import Sequential\n",
        "from keras import layers\n",
        "from keras.optimizers import RMSprop\n",
        "model = Sequential()\n",
        "model.add(layers.GRU(32,dropout=0.2,recurrent_dropout=0.2,input_shape=(None, float_data.shape[-1])))\n",
        "model.add(layers.Dense(1))\n",
        "model.compile(optimizer=RMSprop(), loss='mae')\n",
        "model.summary\n",
        "history = model.fit_generator(train_gen,steps_per_epoch=5,epochs=40,\n",
        "                              validation_data=val_gen,validation_steps=val_steps)"
      ],
      "execution_count": null,
      "outputs": [
        {
          "output_type": "stream",
          "text": [
            "WARNING:tensorflow:Layer gru_2 will not use cuDNN kernel since it doesn't meet the cuDNN kernel criteria. It will use generic GPU kernel as fallback when running on GPU\n",
            "Epoch 1/40\n",
            "5/5 [==============================] - 47s 9s/step - loss: 1.1429 - val_loss: 0.8354\n",
            "Epoch 2/40\n",
            "5/5 [==============================] - 47s 9s/step - loss: 0.7045 - val_loss: 0.4822\n",
            "Epoch 3/40\n",
            "5/5 [==============================] - 47s 9s/step - loss: 0.4381 - val_loss: 0.3427\n",
            "Epoch 4/40\n",
            "5/5 [==============================] - 46s 9s/step - loss: 0.3940 - val_loss: 0.3123\n",
            "Epoch 5/40\n",
            "5/5 [==============================] - 49s 10s/step - loss: 0.3623 - val_loss: 0.3089\n",
            "Epoch 6/40\n",
            "5/5 [==============================] - 47s 9s/step - loss: 0.3699 - val_loss: 0.3053\n",
            "Epoch 7/40\n",
            "5/5 [==============================] - 49s 10s/step - loss: 0.3503 - val_loss: 0.2990\n",
            "Epoch 8/40\n",
            "5/5 [==============================] - 47s 9s/step - loss: 0.3518 - val_loss: 0.3073\n",
            "Epoch 9/40\n",
            "5/5 [==============================] - 47s 9s/step - loss: 0.3441 - val_loss: 0.2981\n",
            "Epoch 10/40\n",
            "5/5 [==============================] - 47s 9s/step - loss: 0.3270 - val_loss: 0.2921\n",
            "Epoch 11/40\n",
            "5/5 [==============================] - 47s 9s/step - loss: 0.3370 - val_loss: 0.3013\n",
            "Epoch 12/40\n",
            "5/5 [==============================] - 48s 10s/step - loss: 0.3311 - val_loss: 0.2933\n",
            "Epoch 13/40\n",
            "5/5 [==============================] - 48s 10s/step - loss: 0.3382 - val_loss: 0.2901\n",
            "Epoch 14/40\n",
            "5/5 [==============================] - 49s 10s/step - loss: 0.3424 - val_loss: 0.2913\n",
            "Epoch 15/40\n",
            "5/5 [==============================] - 49s 10s/step - loss: 0.3345 - val_loss: 0.2897\n",
            "Epoch 16/40\n",
            "5/5 [==============================] - 49s 10s/step - loss: 0.3161 - val_loss: 0.2919\n",
            "Epoch 17/40\n",
            "5/5 [==============================] - 48s 10s/step - loss: 0.3192 - val_loss: 0.2883\n",
            "Epoch 18/40\n",
            "5/5 [==============================] - 47s 9s/step - loss: 0.3307 - val_loss: 0.2856\n",
            "Epoch 19/40\n",
            "5/5 [==============================] - 48s 10s/step - loss: 0.3264 - val_loss: 0.2897\n",
            "Epoch 20/40\n",
            "5/5 [==============================] - 47s 9s/step - loss: 0.3354 - val_loss: 0.2968\n",
            "Epoch 21/40\n",
            "5/5 [==============================] - 47s 9s/step - loss: 0.3491 - val_loss: 0.2944\n",
            "Epoch 22/40\n",
            "5/5 [==============================] - 47s 9s/step - loss: 0.3313 - val_loss: 0.2903\n",
            "Epoch 23/40\n",
            "5/5 [==============================] - 48s 10s/step - loss: 0.3194 - val_loss: 0.2873\n",
            "Epoch 24/40\n",
            "5/5 [==============================] - 48s 10s/step - loss: 0.3236 - val_loss: 0.2839\n",
            "Epoch 25/40\n",
            "5/5 [==============================] - 47s 9s/step - loss: 0.3223 - val_loss: 0.2847\n",
            "Epoch 26/40\n",
            "5/5 [==============================] - 48s 10s/step - loss: 0.3393 - val_loss: 0.2837\n",
            "Epoch 27/40\n",
            "5/5 [==============================] - 48s 10s/step - loss: 0.3169 - val_loss: 0.2925\n",
            "Epoch 28/40\n",
            "5/5 [==============================] - 48s 10s/step - loss: 0.3238 - val_loss: 0.2826\n",
            "Epoch 29/40\n",
            "5/5 [==============================] - 47s 9s/step - loss: 0.3144 - val_loss: 0.3054\n",
            "Epoch 30/40\n",
            "5/5 [==============================] - 48s 10s/step - loss: 0.3240 - val_loss: 0.2845\n",
            "Epoch 31/40\n",
            "5/5 [==============================] - 48s 10s/step - loss: 0.3301 - val_loss: 0.2800\n",
            "Epoch 32/40\n",
            "5/5 [==============================] - 47s 9s/step - loss: 0.3033 - val_loss: 0.2903\n",
            "Epoch 33/40\n",
            "5/5 [==============================] - 48s 10s/step - loss: 0.3263 - val_loss: 0.2832\n",
            "Epoch 34/40\n",
            "5/5 [==============================] - 48s 10s/step - loss: 0.3264 - val_loss: 0.2818\n",
            "Epoch 35/40\n",
            "5/5 [==============================] - 49s 10s/step - loss: 0.3280 - val_loss: 0.2933\n",
            "Epoch 36/40\n",
            "5/5 [==============================] - 49s 10s/step - loss: 0.3173 - val_loss: 0.2790\n",
            "Epoch 37/40\n",
            "5/5 [==============================] - 49s 10s/step - loss: 0.3302 - val_loss: 0.3000\n",
            "Epoch 38/40\n",
            "5/5 [==============================] - 49s 10s/step - loss: 0.3213 - val_loss: 0.2906\n",
            "Epoch 39/40\n",
            "5/5 [==============================] - 48s 10s/step - loss: 0.3136 - val_loss: 0.2826\n",
            "Epoch 40/40\n",
            "5/5 [==============================] - 49s 10s/step - loss: 0.3322 - val_loss: 0.2839\n"
          ],
          "name": "stdout"
        }
      ]
    },
    {
      "cell_type": "code",
      "metadata": {
        "id": "fDkDrVCdbCLi",
        "colab_type": "code",
        "colab": {
          "base_uri": "https://localhost:8080/",
          "height": 52
        },
        "outputId": "147156f1-162b-4e5b-8419-b4bf6fbf05b8"
      },
      "source": [
        "history = model.fit_generator(train_gen,steps_per_epoch=500,epochs=40,\n",
        "                              validation_data=val_gen,validation_steps=val_steps)"
      ],
      "execution_count": null,
      "outputs": [
        {
          "output_type": "stream",
          "text": [
            "Epoch 1/40\n",
            "184/500 [==========>...................] - ETA: 3:35 - loss: 0.3180"
          ],
          "name": "stdout"
        }
      ]
    },
    {
      "cell_type": "code",
      "metadata": {
        "id": "kURHsbnvyYu9",
        "colab_type": "code",
        "colab": {}
      },
      "source": [
        "#Listing 6.41 Training and evaluating a dropout-regularized, stacked GRU model\n",
        "from keras.models import Sequential\n",
        "from keras import layers\n",
        "from keras.optimizers import RMSprop\n",
        "model = Sequential()\n",
        "model.add(layers.GRU(32,dropout=0.1,recurrent_dropout=0.5,return_sequences=True,input_shape=(None, float_data.shape[-1])))\n",
        "model.add(layers.GRU(64, activation='relu',dropout=0.1,recurrent_dropout=0.5))\n",
        "model.add(layers.Dense(1))\n",
        "model.compile(optimizer=RMSprop(), loss='mae')\n",
        "\n",
        "model.summary\n"
      ],
      "execution_count": null,
      "outputs": []
    },
    {
      "cell_type": "code",
      "metadata": {
        "id": "zyVGYKokaqT1",
        "colab_type": "code",
        "colab": {}
      },
      "source": [
        "history = model.fit_generator(train_gen,steps_per_epoch=500,epochs=40,validation_data=val_gen,validation_steps=val_steps)"
      ],
      "execution_count": null,
      "outputs": []
    },
    {
      "cell_type": "code",
      "metadata": {
        "id": "JmjlO-Ai1DtX",
        "colab_type": "code",
        "colab": {}
      },
      "source": [
        "import tensorflow as tf\n",
        "print(tf.__version__)"
      ],
      "execution_count": null,
      "outputs": []
    },
    {
      "cell_type": "code",
      "metadata": {
        "id": "Z0HSFYMAvys8",
        "colab_type": "code",
        "colab": {}
      },
      "source": [
        "#Listing 6.42 Training and evaluating an LSTM using reversed sequences\n",
        "\n",
        "\n",
        "from keras.datasets import imdb\n",
        "from keras.preprocessing import sequence\n",
        "from keras import layers\n",
        "from keras.models import Sequential\n",
        "\n",
        "max_features = 10000\n",
        "maxlen = 500\n",
        "\n",
        "(x_train, y_train), (x_test, y_test) = imdb.load_data(num_words=max_features)\n",
        "x_train = [x[::-1] for x in x_train]\n",
        "x_test = [x[::-1] for x in x_test]\n",
        "\n",
        "\n",
        "x_train = sequence.pad_sequences(x_train, maxlen=maxlen)\n",
        "x_test = sequence.pad_sequences(x_test, maxlen=maxlen)\n",
        "model = Sequential()\n",
        "model.add(layers.Embedding(max_features, 128))\n",
        "model.add(layers.LSTM(32))\n",
        "model.add(layers.Dense(1, activation='sigmoid'))\n",
        "model.compile(optimizer='rmsprop',\n",
        "loss='binary_crossentropy',\n",
        "metrics=['acc'])\n",
        "\n",
        "history = model.fit(x_train, y_train,\n",
        "epochs=10,\n",
        "batch_size=128,\n",
        "validation_split=0.2)"
      ],
      "execution_count": null,
      "outputs": []
    },
    {
      "cell_type": "code",
      "metadata": {
        "id": "Y1gZpbtGfUjK",
        "colab_type": "code",
        "colab": {}
      },
      "source": [
        "#Listing 6.43 Training and evaluating a bidirectional LSTM\n",
        "model = Sequential()\n",
        "model.add(layers.Embedding(max_features, 32))\n",
        "model.add(layers.Bidirectional(layers.LSTM(32)))\n",
        "model.add(layers.Dense(1, activation='sigmoid'))\n",
        "\n",
        "model.compile(optimizer='rmsprop', loss='binary_crossentropy', metrics=['acc'])\n",
        "history = model.fit(x_train, y_train,\n",
        "epochs=10,\n",
        "batch_size=128,\n",
        "validation_split=0.2)\n"
      ],
      "execution_count": null,
      "outputs": []
    },
    {
      "cell_type": "code",
      "metadata": {
        "id": "XkaeSZZAx5zB",
        "colab_type": "code",
        "colab": {}
      },
      "source": [
        "#Listing 6.44 Training a bidirectional GRU\n",
        "from keras.models import Sequential\n",
        "from keras import layers\n",
        "from keras.optimizers import RMSprop\n",
        "model = Sequential()\n",
        "model.add(layers.Bidirectional(\n",
        "layers.GRU(32), input_shape=(None, float_data.shape[-1])))\n",
        "model.add(layers.Dense(1))\n",
        "model.compile(optimizer=RMSprop(), loss='mae')\n",
        "history = model.fit_generator(train_gen,\n",
        "steps_per_epoch=500,\n",
        "epochs=40,\n",
        "validation_data=val_gen,\n",
        "validation_steps=val_steps)"
      ],
      "execution_count": null,
      "outputs": []
    },
    {
      "cell_type": "code",
      "metadata": {
        "id": "pZ6l_AuLyJVF",
        "colab_type": "code",
        "colab": {}
      },
      "source": [
        "#Listing 6.45 Preparing the IMDB data\n",
        "from keras.datasets import imdb\n",
        "from keras.preprocessing import sequence\n",
        "max_features = 10000\n",
        "max_len = 500\n",
        "print('Loading data...')\n",
        "(x_train, y_train), (x_test, y_test) = imdb.load_data(num_words=max_features)\n",
        "print(len(x_train), 'train sequences')\n",
        "print(len(x_test), 'test sequences')\n",
        "print('Pad sequences (samples x time)')\n",
        "x_train = sequence.pad_sequences(x_train, maxlen=max_len)\n",
        "x_test = sequence.pad_sequences(x_test, maxlen=max_len)\n",
        "print('x_train shape:', x_train.shape)\n",
        "print('x_test shape:', x_test.shape)"
      ],
      "execution_count": null,
      "outputs": []
    },
    {
      "cell_type": "code",
      "metadata": {
        "id": "A93I3a2UzH7N",
        "colab_type": "code",
        "colab": {}
      },
      "source": [
        "#Listing 6.46 Training and evaluating a simple 1D convnet on the IMDB data\n",
        "from keras.models import Sequential\n",
        "from keras import layers\n",
        "from keras.optimizers import RMSprop\n",
        "model = Sequential()\n",
        "model.add(layers.Embedding(max_features, 128, input_length=max_len))\n",
        "model.add(layers.Conv1D(32, 7, activation='relu'))\n",
        "model.add(layers.MaxPooling1D(5))\n",
        "model.add(layers.Conv1D(32, 7, activation='relu'))\n",
        "model.add(layers.GlobalMaxPooling1D())\n",
        "model.add(layers.Dense(1))\n",
        "model.summary()\n",
        "model.compile(optimizer=RMSprop(lr=1e-4),\n",
        "loss='binary_crossentropy',\n",
        "metrics=['acc'])\n",
        "history = model.fit(x_train, y_train,\n",
        "epochs=10,\n",
        "batch_size=128,\n",
        "validation_split=0.2)"
      ],
      "execution_count": null,
      "outputs": []
    },
    {
      "cell_type": "code",
      "metadata": {
        "id": "G7RGIvK4zQX6",
        "colab_type": "code",
        "colab": {}
      },
      "source": [
        "#Listing 6.47 Training and evaluating a simple 1D convnet on the Jena data\n",
        "from keras.models import Sequential\n",
        "from keras import layers\n",
        "from keras.optimizers import RMSprop\n",
        "model = Sequential()\n",
        "model.add(layers.Conv1D(32, 5, activation='relu',\n",
        "input_shape=(None, float_data.shape[-1])))\n",
        "model.add(layers.MaxPooling1D(3))\n",
        "model.add(layers.Conv1D(32, 5, activation='relu'))\n",
        "model.add(layers.MaxPooling1D(3))\n",
        "model.add(layers.Conv1D(32, 5, activation='relu'))\n",
        "model.add(layers.GlobalMaxPooling1D())\n",
        "model.add(layers.Dense(1))\n",
        "model.compile(optimizer=RMSprop(), loss='mae')\n",
        "history = model.fit_generator(train_gen,\n",
        "steps_per_epoch=500,\n",
        "epochs=20,\n",
        "validation_data=val_gen,\n",
        "validation_steps=val_steps)"
      ],
      "execution_count": null,
      "outputs": []
    },
    {
      "cell_type": "code",
      "metadata": {
        "id": "MF1fYDubzeki",
        "colab_type": "code",
        "colab": {}
      },
      "source": [
        "#Listing 6.48 Preparing higher-resolution data generators for the Jena dataset\n",
        "step = 3\n",
        "lookback = 720\n",
        "delay = 144\n",
        "\n",
        "\n",
        "train_gen = generator(float_data,\n",
        "lookback=lookback,\n",
        "delay=delay,\n",
        "min_index=0,\n",
        "max_index=200000,\n",
        "shuffle=True,\n",
        "step=step)\n",
        "val_gen = generator(float_data,\n",
        "lookback=lookback,\n",
        "delay=delay,\n",
        "min_index=200001,\n",
        "max_index=300000,\n",
        "step=step)\n",
        "test_gen = generator(float_data,\n",
        "lookback=lookback,\n",
        "delay=delay,\n",
        "min_index=300001,\n",
        "max_index=None,\n",
        "step=step)\n",
        "val_steps = (300000 - 200001 - lookback) // 128\n",
        "test_steps = (len(float_data) - 300001 - lookback) // 12"
      ],
      "execution_count": null,
      "outputs": []
    },
    {
      "cell_type": "code",
      "metadata": {
        "id": "ogfQ_swezzhL",
        "colab_type": "code",
        "colab": {}
      },
      "source": [
        "from keras.models import Sequential\n",
        "from keras import layers\n",
        "from keras.optimizers import RMSprop\n",
        "model = Sequential()\n",
        "model.add(layers.Conv1D(32, 5, activation='relu',\n",
        "input_shape=(None, float_data.shape[-1])))\n",
        "model.add(layers.MaxPooling1D(3))\n",
        "model.add(layers.Conv1D(32, 5, activation='relu'))\n",
        "model.add(layers.GRU(32, dropout=0.1, recurrent_dropout=0.5))\n",
        "model.add(layers.Dense(1))\n",
        "model.summary()\n",
        "model.compile(optimizer=RMSprop(), loss='mae')\n",
        "\n",
        "history = model.fit_generator(train_gen,\n",
        "steps_per_epoch=500,\n",
        "epochs=20,\n",
        "validation_data=val_gen,\n",
        "validation_steps=val_steps)"
      ],
      "execution_count": null,
      "outputs": []
    },
    {
      "cell_type": "code",
      "metadata": {
        "id": "IGukAznT0DuT",
        "colab_type": "code",
        "colab": {}
      },
      "source": [
        ""
      ],
      "execution_count": null,
      "outputs": []
    }
  ]
}